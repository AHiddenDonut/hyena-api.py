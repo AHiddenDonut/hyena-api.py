{
 "cells": [
  {
   "cell_type": "code",
   "execution_count": 1,
   "id": "greek-facility",
   "metadata": {},
   "outputs": [],
   "source": [
    "class InvalidApiKey(Exception):\n",
    "    def __init__(self, message):\n",
    "        self.message = message"
   ]
  },
  {
   "cell_type": "code",
   "execution_count": 2,
   "id": "athletic-reunion",
   "metadata": {},
   "outputs": [
    {
     "ename": "InvalidApiKey",
     "evalue": "Your API key is invalid!",
     "output_type": "error",
     "traceback": [
      "\u001b[0;31m---------------------------------------------------------------------------\u001b[0m",
      "\u001b[0;31mInvalidApiKey\u001b[0m                             Traceback (most recent call last)",
      "\u001b[0;32m<ipython-input-2-d2008944c5ad>\u001b[0m in \u001b[0;36m<module>\u001b[0;34m\u001b[0m\n\u001b[0;32m----> 1\u001b[0;31m \u001b[0;32mraise\u001b[0m \u001b[0mInvalidApiKey\u001b[0m\u001b[0;34m(\u001b[0m\u001b[0;34m\"Your API key is invalid!\"\u001b[0m\u001b[0;34m)\u001b[0m\u001b[0;34m\u001b[0m\u001b[0;34m\u001b[0m\u001b[0m\n\u001b[0m",
      "\u001b[0;31mInvalidApiKey\u001b[0m: Your API key is invalid!"
     ]
    }
   ],
   "source": [
    "raise InvalidApiKey(\"Your API key is invalid!\")"
   ]
  },
  {
   "cell_type": "code",
   "execution_count": null,
   "id": "maritime-ladder",
   "metadata": {},
   "outputs": [],
   "source": []
  }
 ],
 "metadata": {
  "kernelspec": {
   "display_name": "Python 3",
   "language": "python",
   "name": "python3"
  },
  "language_info": {
   "codemirror_mode": {
    "name": "ipython",
    "version": 3
   },
   "file_extension": ".py",
   "mimetype": "text/x-python",
   "name": "python",
   "nbconvert_exporter": "python",
   "pygments_lexer": "ipython3",
   "version": "3.9.0"
  }
 },
 "nbformat": 4,
 "nbformat_minor": 5
}
